{
 "cells": [
  {
   "cell_type": "code",
   "execution_count": 1,
   "metadata": {},
   "outputs": [],
   "source": [
    "from query_handler import QueryHandler\n",
    "from sql_client import SQLClient\n",
    "\n",
    "import json\n",
    "from collections import namedtuple"
   ]
  },
  {
   "cell_type": "markdown",
   "metadata": {},
   "source": [
    "# Aghanim's Labyrinth Custom Abilities "
   ]
  },
  {
   "cell_type": "code",
   "execution_count": 7,
   "metadata": {},
   "outputs": [],
   "source": [
    "ability_constants_handler = QueryHandler(f'./queries/constants_custom_ability.txt')\n",
    "r = ability_constants_handler.make_query()\n",
    "\n",
    "query_result = json.loads(r)\n",
    "abilities = query_result['data']['constants']['customAbilities']"
   ]
  },
  {
   "cell_type": "code",
   "execution_count": 15,
   "metadata": {},
   "outputs": [],
   "source": [
    "unnested_abilities = []\n",
    "for ability in abilities:\n",
    "    try:\n",
    "        ability['displayName'] = ability['language']['displayName']\n",
    "        ability['description'] = ability['language']['description']\n",
    "        del ability['language']\n",
    "    except:\n",
    "        ability['displayName'] = None\n",
    "        ability['description'] = None\n",
    "    unnested_abilities.append(ability)"
   ]
  },
  {
   "cell_type": "code",
   "execution_count": 28,
   "metadata": {},
   "outputs": [],
   "source": [
    "sqlclient = SQLClient()\n",
    "cur = sqlclient.cur\n",
    "\n",
    "for ability in unnested_abilities:\n",
    "    try:\n",
    "        cur.execute(\"\"\"INSERT INTO customAbilityConstants (id, name, abilityName, displayName, description) VALUES (%s, %s, %s, %s, %s)\"\"\",\n",
    "        (ability['id'], ability['name'], ability['abilityName'], ability['displayName'], ability['description']))\n",
    "    except:\n",
    "        print(f'Error inserting {ability[\"id\"]}')\n",
    "\n",
    "sqlclient.conn.commit()\n",
    "sqlclient.close_connection()"
   ]
  },
  {
   "cell_type": "markdown",
   "metadata": {},
   "source": [
    "# Heroes / Abilities (Normal Dota)"
   ]
  },
  {
   "cell_type": "code",
   "execution_count": 9,
   "metadata": {},
   "outputs": [],
   "source": [
    "hero_constants_handler = QueryHandler(f'./queries/constants_hero.txt')\n",
    "r = hero_constants_handler.make_query()\n",
    "\n",
    "query_result = json.loads(r)\n",
    "heroes = query_result['data']['constants']['heroes']"
   ]
  },
  {
   "cell_type": "markdown",
   "metadata": {},
   "source": [
    "Schema:\n",
    "```\n",
    "CREATE TABLE const_heroes(\n",
    "    id SMALLINT,\n",
    "    name TEXT,\n",
    "    displayName TEXT,\n",
    "    shortName TEXT,\n",
    "    aliases TEXT[],\n",
    "    PRIMARY KEY(id)\n",
    ")\n",
    "\n",
    "CREATE TABLE const_abilities(\n",
    "    abilityId SMALLINT,\n",
    "    heroId SMALLINT,\n",
    "    slot SMALLINT,\n",
    "    name TEXT,\n",
    "    displayName TEXT,\n",
    "    PRIMARY KEY(abilityId),\n",
    "    FOREIGN KEY(heroId) REFERENCES const_heroes(id)\n",
    ");\n",
    "```"
   ]
  },
  {
   "cell_type": "code",
   "execution_count": 16,
   "metadata": {},
   "outputs": [],
   "source": [
    "Hero = namedtuple('hero', ['id', 'name', 'displayName', 'shortName', 'aliases'])\n",
    "Ability = namedtuple('ability', ['abilityId', 'heroId', 'slot', 'name', 'displayName'])"
   ]
  },
  {
   "cell_type": "code",
   "execution_count": 18,
   "metadata": {},
   "outputs": [],
   "source": [
    "heroes_to_insert = []\n",
    "abilities_to_insert = []\n",
    "\n",
    "for hero in heroes:\n",
    "    hero_tup = Hero(hero['id'], hero['name'], hero['displayName'], hero['shortName'], hero['aliases'])\n",
    "    for ability in hero['abilities']:\n",
    "        ability_tup = Ability(ability['abilityId'], hero['id'], ability['slot'], ability['ability']['name'], ability['ability']['language']['displayName'])\n",
    "        abilities_to_insert.append(ability_tup)\n",
    "    heroes_to_insert.append(hero_tup)"
   ]
  },
  {
   "cell_type": "code",
   "execution_count": 36,
   "metadata": {},
   "outputs": [],
   "source": [
    "sqlclient = SQLClient()\n",
    "cur = sqlclient.cur\n",
    "\n",
    "hero_rows = b','.join(cur.mogrify(\"(%s,%s,%s,%s,%s)\", hero) for hero in heroes_to_insert)\n",
    "cur.execute(b\"INSERT INTO const_heroes VALUES \" + hero_rows)\n",
    "\n",
    "ability_rows = b','.join(cur.mogrify(\"(%s,%s,%s,%s,%s)\", ability) for ability in abilities_to_insert)\n",
    "cur.execute(b\"INSERT INTO const_abilities VALUES \" + ability_rows)\n",
    "\n",
    "sqlclient.conn.commit()\n",
    "sqlclient.close_connection()"
   ]
  },
  {
   "cell_type": "markdown",
   "metadata": {},
   "source": [
    "# Extracted abilities"
   ]
  },
  {
   "cell_type": "code",
   "execution_count": 2,
   "metadata": {},
   "outputs": [],
   "source": [
    "import pandas as pd"
   ]
  },
  {
   "cell_type": "code",
   "execution_count": 3,
   "metadata": {},
   "outputs": [],
   "source": [
    "df = pd.read_parquet(\"aghs_abilities.parquet\")"
   ]
  },
  {
   "cell_type": "code",
   "execution_count": 5,
   "metadata": {},
   "outputs": [],
   "source": [
    "abilities_to_insert = []\n",
    "\n",
    "for index, row in df.iterrows():\n",
    "    ability_tup = (row['name'], row['localized_name'], row['description'], row['ability_special'], row['texture_name'])\n",
    "    abilities_to_insert.append(ability_tup)\n",
    "\n",
    "sqlclient = SQLClient(port=5433)\n",
    "cur = sqlclient.cur\n",
    "\n",
    "ability_rows = b','.join(cur.mogrify(\"(%s,%s,%s,%s,%s)\", ability) for ability in abilities_to_insert)\n",
    "cur.execute(b\"INSERT INTO const_extractedabilities VALUES \" + ability_rows)\n",
    "\n",
    "sqlclient.conn.commit()\n",
    "sqlclient.close_connection()"
   ]
  },
  {
   "cell_type": "code",
   "execution_count": null,
   "metadata": {},
   "outputs": [],
   "source": []
  }
 ],
 "metadata": {
  "interpreter": {
   "hash": "faf90e3198d0b4c557d35bad36e5013e5771581f041c6b2b8bdf80384b180643"
  },
  "kernelspec": {
   "display_name": "Python 3.8.10 64-bit ('.venv': venv)",
   "language": "python",
   "name": "python3"
  },
  "language_info": {
   "codemirror_mode": {
    "name": "ipython",
    "version": 3
   },
   "file_extension": ".py",
   "mimetype": "text/x-python",
   "name": "python",
   "nbconvert_exporter": "python",
   "pygments_lexer": "ipython3",
   "version": "3.8.10"
  },
  "orig_nbformat": 4
 },
 "nbformat": 4,
 "nbformat_minor": 2
}
