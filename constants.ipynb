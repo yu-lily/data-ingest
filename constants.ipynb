{
 "cells": [
  {
   "cell_type": "code",
   "execution_count": 13,
   "metadata": {},
   "outputs": [],
   "source": [
    "from constants import AbilityConstantsHandler"
   ]
  },
  {
   "cell_type": "code",
   "execution_count": 14,
   "metadata": {},
   "outputs": [],
   "source": [
    "ability_constants_handler = AbilityConstantsHandler()\n",
    "abilities, err = ability_constants_handler.make_query()"
   ]
  },
  {
   "cell_type": "code",
   "execution_count": 15,
   "metadata": {},
   "outputs": [],
   "source": [
    "unnested_abilities = []\n",
    "for ability in abilities:\n",
    "    try:\n",
    "        ability['displayName'] = ability['language']['displayName']\n",
    "        ability['description'] = ability['language']['description']\n",
    "        del ability['language']\n",
    "    except:\n",
    "        ability['displayName'] = None\n",
    "        ability['description'] = None\n",
    "    unnested_abilities.append(ability)\n",
    "    "
   ]
  },
  {
   "cell_type": "code",
   "execution_count": 26,
   "metadata": {},
   "outputs": [],
   "source": [
    "from sql_client import SQLClient\n",
    "sqlclient = SQLClient()\n",
    "cur = sqlclient.cur"
   ]
  },
  {
   "cell_type": "code",
   "execution_count": 28,
   "metadata": {},
   "outputs": [],
   "source": [
    "for ability in unnested_abilities:\n",
    "    try:\n",
    "        cur.execute(\"\"\"INSERT INTO abilityConstants (id, name, abilityName, displayName, description) VALUES (%s, %s, %s, %s, %s)\"\"\",\n",
    "        (ability['id'], ability['name'], ability['abilityName'], ability['displayName'], ability['description']))\n",
    "    except:\n",
    "        print(f'Error inserting {ability[\"id\"]}')\n",
    "\n",
    "sqlclient.conn.commit()\n",
    "sqlclient.close_connection()"
   ]
  },
  {
   "cell_type": "code",
   "execution_count": null,
   "metadata": {},
   "outputs": [],
   "source": []
  }
 ],
 "metadata": {
  "interpreter": {
   "hash": "faf90e3198d0b4c557d35bad36e5013e5771581f041c6b2b8bdf80384b180643"
  },
  "kernelspec": {
   "display_name": "Python 3.8.10 64-bit ('.venv': venv)",
   "language": "python",
   "name": "python3"
  },
  "language_info": {
   "codemirror_mode": {
    "name": "ipython",
    "version": 3
   },
   "file_extension": ".py",
   "mimetype": "text/x-python",
   "name": "python",
   "nbconvert_exporter": "python",
   "pygments_lexer": "ipython3",
   "version": "3.8.10"
  },
  "orig_nbformat": 4
 },
 "nbformat": 4,
 "nbformat_minor": 2
}
