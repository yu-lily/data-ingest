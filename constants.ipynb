{
 "cells": [
  {
   "cell_type": "code",
   "execution_count": 21,
   "metadata": {},
   "outputs": [],
   "source": [
    "from query_handler import QueryHandler\n",
    "from sql_client import SQLClient\n",
    "\n",
    "import json\n",
    "from collections import namedtuple"
   ]
  },
  {
   "cell_type": "markdown",
   "metadata": {},
   "source": [
    "# Aghanim's Labyrinth Custom Abilities "
   ]
  },
  {
   "cell_type": "code",
   "execution_count": 7,
   "metadata": {},
   "outputs": [],
   "source": [
    "ability_constants_handler = QueryHandler(f'./queries/constants_custom_ability.txt')\n",
    "r = ability_constants_handler.make_query()\n",
    "\n",
    "query_result = json.loads(r)\n",
    "abilities = query_result['data']['constants']['customAbilities']"
   ]
  },
  {
   "cell_type": "code",
   "execution_count": 15,
   "metadata": {},
   "outputs": [],
   "source": [
    "unnested_abilities = []\n",
    "for ability in abilities:\n",
    "    try:\n",
    "        ability['displayName'] = ability['language']['displayName']\n",
    "        ability['description'] = ability['language']['description']\n",
    "        del ability['language']\n",
    "    except:\n",
    "        ability['displayName'] = None\n",
    "        ability['description'] = None\n",
    "    unnested_abilities.append(ability)"
   ]
  },
  {
   "cell_type": "code",
   "execution_count": 28,
   "metadata": {},
   "outputs": [],
   "source": [
    "sqlclient = SQLClient()\n",
    "cur = sqlclient.cur\n",
    "\n",
    "for ability in unnested_abilities:\n",
    "    try:\n",
    "        cur.execute(\"\"\"INSERT INTO customAbilityConstants (id, name, abilityName, displayName, description) VALUES (%s, %s, %s, %s, %s)\"\"\",\n",
    "        (ability['id'], ability['name'], ability['abilityName'], ability['displayName'], ability['description']))\n",
    "    except:\n",
    "        print(f'Error inserting {ability[\"id\"]}')\n",
    "\n",
    "sqlclient.conn.commit()\n",
    "sqlclient.close_connection()"
   ]
  },
  {
   "cell_type": "markdown",
   "metadata": {},
   "source": [
    "# Heroes / Abilities (Normal Dota)"
   ]
  },
  {
   "cell_type": "code",
   "execution_count": 9,
   "metadata": {},
   "outputs": [],
   "source": [
    "hero_constants_handler = QueryHandler(f'./queries/constants_hero.txt')\n",
    "r = hero_constants_handler.make_query()\n",
    "\n",
    "query_result = json.loads(r)\n",
    "heroes = query_result['data']['constants']['heroes']"
   ]
  },
  {
   "cell_type": "markdown",
   "metadata": {},
   "source": [
    "Schema:\n",
    "```\n",
    "CREATE TABLE const_heroes(\n",
    "    id SMALLINT,\n",
    "    name TEXT,\n",
    "    displayName TEXT,\n",
    "    shortName TEXT,\n",
    "    aliases TEXT[],\n",
    "    PRIMARY KEY(id)\n",
    ")\n",
    "\n",
    "CREATE TABLE const_abilities(\n",
    "    abilityId SMALLINT,\n",
    "    heroId SMALLINT,\n",
    "    slot SMALLINT,\n",
    "    name TEXT,\n",
    "    displayName TEXT,\n",
    "    PRIMARY KEY(abilityId),\n",
    "    FOREIGN KEY(heroId) REFERENCES const_heroes(id)\n",
    ");\n",
    "```"
   ]
  },
  {
   "cell_type": "code",
   "execution_count": 16,
   "metadata": {},
   "outputs": [],
   "source": [
    "Hero = namedtuple('hero', ['id', 'name', 'displayName', 'shortName', 'aliases'])\n",
    "Ability = namedtuple('ability', ['abilityId', 'heroId', 'slot', 'name', 'displayName'])"
   ]
  },
  {
   "cell_type": "code",
   "execution_count": 18,
   "metadata": {},
   "outputs": [],
   "source": [
    "heroes_to_insert = []\n",
    "abilities_to_insert = []\n",
    "\n",
    "for hero in heroes:\n",
    "    hero_tup = Hero(hero['id'], hero['name'], hero['displayName'], hero['shortName'], hero['aliases'])\n",
    "    for ability in hero['abilities']:\n",
    "        ability_tup = Ability(ability['abilityId'], hero['id'], ability['slot'], ability['ability']['name'], ability['ability']['language']['displayName'])\n",
    "        abilities_to_insert.append(ability_tup)\n",
    "    heroes_to_insert.append(hero_tup)"
   ]
  },
  {
   "cell_type": "code",
   "execution_count": 27,
   "metadata": {},
   "outputs": [
    {
     "data": {
      "text/plain": [
       "['am']"
      ]
     },
     "execution_count": 27,
     "metadata": {},
     "output_type": "execute_result"
    }
   ],
   "source": [
    "heroes[0]['aliases']"
   ]
  },
  {
   "cell_type": "code",
   "execution_count": 31,
   "metadata": {},
   "outputs": [
    {
     "data": {
      "text/plain": [
       "b\"(1,'npc_dota_hero_antimage','Anti-Mage','antimage',ARRAY['am'])(2,'npc_dota_hero_axe','Axe','axe','{}')(3,'npc_dota_hero_bane','Bane','bane','{}')(4,'npc_dota_hero_bloodseeker','Bloodseeker','bloodseeker',ARRAY['bs'])(5,'npc_dota_hero_crystal_maiden','Crystal Maiden','crystal_maiden',ARRAY['cm','rylai'])(6,'npc_dota_hero_drow_ranger','Drow Ranger','drow_ranger','{}')(7,'npc_dota_hero_earthshaker','Earthshaker','earthshaker','{}')(8,'npc_dota_hero_juggernaut','Juggernaut','juggernaut','{}')(9,'npc_dota_hero_mirana','Mirana','mirana','{}')(10,'npc_dota_hero_morphling','Morphling','morphling','{}')(11,'npc_dota_hero_nevermore','Shadow Fiend','nevermore',ARRAY['sf'])(12,'npc_dota_hero_phantom_lancer','Phantom Lancer','phantom_lancer',ARRAY['pl'])(13,'npc_dota_hero_puck','Puck','puck','{}')(14,'npc_dota_hero_pudge','Pudge','pudge','{}')(15,'npc_dota_hero_razor','Razor','razor','{}')(16,'npc_dota_hero_sand_king','Sand King','sand_king',ARRAY['sk'])(17,'npc_dota_hero_storm_spirit','Storm Spirit','storm_spirit',ARRAY['ss','raijin'])(18,'npc_dota_hero_sven','Sven','sven','{}')(19,'npc_dota_hero_tiny','Tiny','tiny','{}')(20,'npc_dota_hero_vengefulspirit','Vengeful Spirit','vengefulspirit',ARRAY['vs'])(21,'npc_dota_hero_windrunner','Windranger','windrunner',ARRAY['wr'])(22,'npc_dota_hero_zuus','Zeus','zuus','{}')(23,'npc_dota_hero_kunkka','Kunkka','kunkka','{}')(25,'npc_dota_hero_lina','Lina','lina','{}')(26,'npc_dota_hero_lion','Lion','lion','{}')(27,'npc_dota_hero_shadow_shaman','Shadow Shaman','shadow_shaman',ARRAY['ss'])(28,'npc_dota_hero_slardar','Slardar','slardar','{}')(29,'npc_dota_hero_tidehunter','Tidehunter','tidehunter','{}')(30,'npc_dota_hero_witch_doctor','Witch Doctor','witch_doctor',ARRAY['wd'])(31,'npc_dota_hero_lich','Lich','lich','{}')(32,'npc_dota_hero_riki','Riki','riki','{}')(33,'npc_dota_hero_enigma','Enigma','enigma','{}')(34,'npc_dota_hero_tinker','Tinker','tinker','{}')(35,'npc_dota_hero_sniper','Sniper','sniper','{}')(36,'npc_dota_hero_necrolyte','Necrophos','necrolyte','{}')(37,'npc_dota_hero_warlock','Warlock','warlock','{}')(38,'npc_dota_hero_beastmaster','Beastmaster','beastmaster',ARRAY['bm'])(39,'npc_dota_hero_queenofpain','Queen of Pain','queenofpain',ARRAY['qop'])(40,'npc_dota_hero_venomancer','Venomancer','venomancer','{}')(41,'npc_dota_hero_faceless_void','Faceless Void','faceless_void',ARRAY['fv'])(42,'npc_dota_hero_skeleton_king','Wraith King','skeleton_king',ARRAY['sk','snk','wk','skeleton'])(43,'npc_dota_hero_death_prophet','Death Prophet','death_prophet',ARRAY['dp'])(44,'npc_dota_hero_phantom_assassin','Phantom Assassin','phantom_assassin',ARRAY['pa','mortred'])(45,'npc_dota_hero_pugna','Pugna','pugna','{}')(46,'npc_dota_hero_templar_assassin','Templar Assassin','templar_assassin',ARRAY['ta'])(47,'npc_dota_hero_viper','Viper','viper','{}')(48,'npc_dota_hero_luna','Luna','luna','{}')(49,'npc_dota_hero_dragon_knight','Dragon Knight','dragon_knight',ARRAY['dk','davion'])(50,'npc_dota_hero_dazzle','Dazzle','dazzle','{}')(51,'npc_dota_hero_rattletrap','Clockwerk','rattletrap','{}')(52,'npc_dota_hero_leshrac','Leshrac','leshrac','{}')(53,'npc_dota_hero_furion','Nature''s Prophet','furion',ARRAY['np'])(54,'npc_dota_hero_life_stealer','Lifestealer','life_stealer','{}')(55,'npc_dota_hero_dark_seer','Dark Seer','dark_seer',ARRAY['ds'])(56,'npc_dota_hero_clinkz','Clinkz','clinkz','{}')(57,'npc_dota_hero_omniknight','Omniknight','omniknight','{}')(58,'npc_dota_hero_enchantress','Enchantress','enchantress','{}')(59,'npc_dota_hero_huskar','Huskar','huskar','{}')(60,'npc_dota_hero_night_stalker','Night Stalker','night_stalker',ARRAY['ns'])(61,'npc_dota_hero_broodmother','Broodmother','broodmother',ARRAY['bm'])(62,'npc_dota_hero_bounty_hunter','Bounty Hunter','bounty_hunter',ARRAY['bh'])(63,'npc_dota_hero_weaver','Weaver','weaver','{}')(64,'npc_dota_hero_jakiro','Jakiro','jakiro','{}')(65,'npc_dota_hero_batrider','Batrider','batrider',ARRAY['br'])(66,'npc_dota_hero_chen','Chen','chen','{}')(67,'npc_dota_hero_spectre','Spectre','spectre','{}')(68,'npc_dota_hero_ancient_apparition','Ancient Apparition','ancient_apparition',ARRAY['aa'])(69,'npc_dota_hero_doom_bringer','Doom','doom_bringer',ARRAY['db'])(70,'npc_dota_hero_ursa','Ursa','ursa','{}')(71,'npc_dota_hero_spirit_breaker','Spirit Breaker','spirit_breaker',ARRAY['sb'])(72,'npc_dota_hero_gyrocopter','Gyrocopter','gyrocopter','{}')(73,'npc_dota_hero_alchemist','Alchemist','alchemist','{}')(74,'npc_dota_hero_invoker','Invoker','invoker','{}')(75,'npc_dota_hero_silencer','Silencer','silencer','{}')(76,'npc_dota_hero_obsidian_destroyer','Outworld Destroyer','obsidian_destroyer',ARRAY['od'])(77,'npc_dota_hero_lycan','Lycan','lycan','{}')(78,'npc_dota_hero_brewmaster','Brewmaster','brewmaster',ARRAY['bm'])(79,'npc_dota_hero_shadow_demon','Shadow Demon','shadow_demon',ARRAY['sd'])(80,'npc_dota_hero_lone_druid','Lone Druid','lone_druid',ARRAY['ld'])(81,'npc_dota_hero_chaos_knight','Chaos Knight','chaos_knight',ARRAY['ck'])(82,'npc_dota_hero_meepo','Meepo','meepo',ARRAY['geomancer','meepwn'])(83,'npc_dota_hero_treant','Treant Protector','treant','{}')(84,'npc_dota_hero_ogre_magi','Ogre Magi','ogre_magi',ARRAY['om'])(85,'npc_dota_hero_undying','Undying','undying',ARRAY['dirge'])(86,'npc_dota_hero_rubick','Rubick','rubick',ARRAY['rubick'])(87,'npc_dota_hero_disruptor','Disruptor','disruptor',ARRAY['disruptor'])(88,'npc_dota_hero_nyx_assassin','Nyx Assassin','nyx_assassin',ARRAY['na'])(89,'npc_dota_hero_naga_siren','Naga Siren','naga_siren',ARRAY['naga'])(90,'npc_dota_hero_keeper_of_the_light','Keeper of the Light','keeper_of_the_light',ARRAY['keeper','ezalor','kotl'])(91,'npc_dota_hero_wisp','Io','wisp',ARRAY['wisp'])(92,'npc_dota_hero_visage','Visage','visage',ARRAY['visage'])(93,'npc_dota_hero_slark','Slark','slark',ARRAY['slark'])(94,'npc_dota_hero_medusa','Medusa','medusa',ARRAY['medusa','gorgon'])(95,'npc_dota_hero_troll_warlord','Troll Warlord','troll_warlord',ARRAY['troll','jahrakal'])(96,'npc_dota_hero_centaur','Centaur Warrunner','centaur',ARRAY['centaur'])(97,'npc_dota_hero_magnataur','Magnus','magnataur',ARRAY['magnataur','magnus'])(98,'npc_dota_hero_shredder','Timbersaw','shredder',ARRAY['Rizzrack','Shredder','Timbersaw'])(99,'npc_dota_hero_bristleback','Bristleback','bristleback',ARRAY['Rigwarl','bb'])(100,'npc_dota_hero_tusk','Tusk','tusk',ARRAY['Tuskarr'])(101,'npc_dota_hero_skywrath_mage','Skywrath Mage','skywrath_mage',ARRAY['dragonus'])(102,'npc_dota_hero_abaddon','Abaddon','abaddon',ARRAY['Abaddon'])(103,'npc_dota_hero_elder_titan','Elder Titan','elder_titan',ARRAY['TC','Cairne'])(104,'npc_dota_hero_legion_commander','Legion Commander','legion_commander',ARRAY['Tresdin','Legion'])(105,'npc_dota_hero_techies','Techies','techies','{}')(106,'npc_dota_hero_ember_spirit','Ember Spirit','ember_spirit',ARRAY['Xin','Ember'])(107,'npc_dota_hero_earth_spirit','Earth Spirit','earth_spirit',ARRAY['Kaolin','Earth'])(108,'npc_dota_hero_abyssal_underlord','Underlord','abyssal_underlord',ARRAY['PitLord','Azgalor'])(109,'npc_dota_hero_terrorblade','Terrorblade','terrorblade',ARRAY['tb'])(110,'npc_dota_hero_phoenix','Phoenix','phoenix',ARRAY['ph'])(111,'npc_dota_hero_oracle','Oracle','oracle',ARRAY['ora'])(112,'npc_dota_hero_winter_wyvern','Winter Wyvern','winter_wyvern','{}')(113,'npc_dota_hero_arc_warden','Arc Warden','arc_warden',ARRAY['zet'])(114,'npc_dota_hero_monkey_king','Monkey King','monkey_king',ARRAY['mk'])(119,'npc_dota_hero_dark_willow','Dark Willow','dark_willow','{}')(120,'npc_dota_hero_pangolier','Pangolier','pangolier',ARRAY['ar'])(121,'npc_dota_hero_grimstroke','Grimstroke','grimstroke',ARRAY['gs'])(123,'npc_dota_hero_hoodwink','Hoodwink','hoodwink',ARRAY['squirrel'])(126,'npc_dota_hero_void_spirit','Void Spirit','void_spirit',ARRAY['Void','VS','Inai'])(128,'npc_dota_hero_snapfire','Snapfire','snapfire',ARRAY['snap','mortimer'])(129,'npc_dota_hero_mars','Mars','mars',ARRAY['mars'])(135,'npc_dota_hero_dawnbreaker','Dawnbreaker','dawnbreaker',ARRAY['Dawnbreaker','Valora'])(136,'npc_dota_hero_marci','Marci','marci','{}')\""
      ]
     },
     "execution_count": 31,
     "metadata": {},
     "output_type": "execute_result"
    }
   ],
   "source": [
    "b''.join(list((cur.mogrify(\"(%s,%s,%s,%s,%s)\", hero) for hero in heroes_to_insert)))"
   ]
  },
  {
   "cell_type": "code",
   "execution_count": 36,
   "metadata": {},
   "outputs": [],
   "source": [
    "sqlclient = SQLClient()\n",
    "cur = sqlclient.cur\n",
    "\n",
    "hero_rows = b','.join(cur.mogrify(\"(%s,%s,%s,%s,%s)\", hero) for hero in heroes_to_insert)\n",
    "cur.execute(b\"INSERT INTO const_heroes VALUES \" + hero_rows)\n",
    "\n",
    "ability_rows = b','.join(cur.mogrify(\"(%s,%s,%s,%s,%s)\", ability) for ability in abilities_to_insert)\n",
    "cur.execute(b\"INSERT INTO const_abilities VALUES \" + ability_rows)\n",
    "\n",
    "sqlclient.conn.commit()\n",
    "sqlclient.close_connection()"
   ]
  },
  {
   "cell_type": "code",
   "execution_count": null,
   "metadata": {},
   "outputs": [],
   "source": []
  }
 ],
 "metadata": {
  "interpreter": {
   "hash": "faf90e3198d0b4c557d35bad36e5013e5771581f041c6b2b8bdf80384b180643"
  },
  "kernelspec": {
   "display_name": "Python 3.8.10 64-bit ('.venv': venv)",
   "language": "python",
   "name": "python3"
  },
  "language_info": {
   "codemirror_mode": {
    "name": "ipython",
    "version": 3
   },
   "file_extension": ".py",
   "mimetype": "text/x-python",
   "name": "python",
   "nbconvert_exporter": "python",
   "pygments_lexer": "ipython3",
   "version": "3.8.10"
  },
  "orig_nbformat": 4
 },
 "nbformat": 4,
 "nbformat_minor": 2
}
