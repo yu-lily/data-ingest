{
 "cells": [
  {
   "cell_type": "code",
   "execution_count": 1,
   "metadata": {},
   "outputs": [
    {
     "data": {
      "text/plain": [
       "True"
      ]
     },
     "execution_count": 1,
     "metadata": {},
     "output_type": "execute_result"
    }
   ],
   "source": [
    "from table_init import TableInitializer\n",
    "from batch_processor import BatchProcessor\n",
    "\n",
    "from dotenv import load_dotenv\n",
    "\n",
    "load_dotenv()"
   ]
  },
  {
   "cell_type": "code",
   "execution_count": 2,
   "metadata": {},
   "outputs": [
    {
     "name": "stdout",
     "output_type": "stream",
     "text": [
      "Existing tables: [('matches',), ('players',), ('playerdepthlist',), ('playerblessings',), ('depthlist',), ('ascensionabilities',)]\n"
     ]
    }
   ],
   "source": [
    "table_init = TableInitializer()\n",
    "table_init.initialize_tables()\n",
    "table_init.close_connection()"
   ]
  },
  {
   "cell_type": "code",
   "execution_count": 3,
   "metadata": {},
   "outputs": [
    {
     "name": "stderr",
     "output_type": "stream",
     "text": [
      "INFO:root:Window 1639533060 has been fully handled\n",
      "INFO:root:Window 1639551060 has been fully handled\n",
      "INFO:root:Window 1639569060 has been fully handled\n",
      "INFO:root:Window 1639587060 has been fully handled\n",
      "INFO:root:Window 1639605060 has been fully handled\n",
      "INFO:root:Window 1639623060 has been fully handled\n",
      "INFO:root:Window 1639641060 has been fully handled\n",
      "INFO:root:Window 1639659060 has been fully handled\n",
      "INFO:root:Window 1639677060 has been fully handled\n",
      "INFO:root:Window 1639695060 has been fully handled\n",
      "INFO:root:Window 1639713060 has been fully handled\n",
      "INFO:root:Window 1639731060 has been fully handled\n",
      "INFO:root:Window 1639749060 has been fully handled\n",
      "INFO:root:Window 1639767060 has been fully handled\n",
      "INFO:root:Window 1639785060 has been fully handled\n",
      "INFO:root:Window 1639803060 has been fully handled\n",
      "INFO:root:Window 1639821060 has been fully handled\n",
      "INFO:root:Window 1639839060 has been fully handled\n",
      "INFO:root:Window 1639857060 has been fully handled\n",
      "INFO:root:Window 1639875060 has been fully handled\n",
      "INFO:root:Window 1639893060 has been fully handled\n",
      "INFO:root:Window 1639911060 has been fully handled\n",
      "INFO:root:Window 1639929060 has been fully handled\n",
      "INFO:root:Window 1639947060 has been fully handled\n",
      "INFO:root:Window 1639965060 has been fully handled\n",
      "INFO:root:Window 1639983060 has been fully handled\n",
      "INFO:root:Window 1640001060 has been fully handled\n",
      "INFO:root:Window 1640019060 has been fully handled\n",
      "INFO:root:Window 1640037060 has been fully handled\n",
      "INFO:root:Window 1640055060 has been fully handled\n",
      "INFO:root:Window 1640073060 has been fully handled\n",
      "INFO:root:Window 1640091060 has been fully handled\n",
      "INFO:root:Window 1640109060 has been fully handled\n",
      "INFO:root:Window 1640127060 has been fully handled\n",
      "INFO:root:Window 1640145060 has been fully handled\n",
      "INFO:root:Window 1640163060 has been fully handled\n",
      "INFO:root:Window 1640181060 has been fully handled\n",
      "INFO:root:Window 1640199060 has been fully handled\n",
      "INFO:root:Window 1640217060 has been fully handled\n",
      "INFO:root:Window 1640235060 has been fully handled\n",
      "INFO:root:Window 1640253060 has been fully handled\n",
      "INFO:root:Window 1640271060 has been fully handled\n",
      "INFO:root:Window 1640289060 has been fully handled\n",
      "INFO:root:Window 1640307060 has been fully handled\n",
      "INFO:root:Window 1640325060 has been fully handled\n",
      "INFO:root:Window 1640343060 has been fully handled\n",
      "INFO:root:Window 1640361060 has been fully handled\n",
      "INFO:root:Window 1640379060 has been fully handled\n",
      "INFO:root:Window 1640397060 has been fully handled\n",
      "INFO:root:Window 1640415060 has been fully handled\n",
      "INFO:root:Window 1640433060 has been fully handled\n",
      "INFO:root:Window 1640451060 has been fully handled\n",
      "INFO:root:Window 1640469060 has been fully handled\n",
      "INFO:root:Window 1640487060 has been fully handled\n",
      "INFO:root:Window 1640505060 has been fully handled\n",
      "INFO:root:Window 1640523060 has been fully handled\n",
      "INFO:root:Window 1640541060 has been fully handled\n",
      "INFO:root:Window 1640559060 has been fully handled\n",
      "INFO:root:Window 1640577060 has been fully handled\n",
      "INFO:root:Window 1640595060 has been fully handled\n",
      "INFO:root:Window 1640613060 has been fully handled\n",
      "INFO:root:Window 1640631060 has been fully handled\n",
      "INFO:root:Window 1640649060 has been fully handled\n",
      "INFO:root:Window 1640667060 has been fully handled\n",
      "INFO:root:Window 1640685060 has been fully handled\n",
      "INFO:root:Window 1640703060 has been fully handled\n",
      "INFO:root:Window 1640721060 has been fully handled\n",
      "INFO:root:Window 1640739060 has been fully handled\n",
      "INFO:root:Window 1640757060 has been fully handled\n",
      "INFO:root:Window 1640775060 has been fully handled\n",
      "INFO:root:Window 1640793060 has been fully handled\n",
      "INFO:root:Window 1640811060 has been fully handled\n",
      "INFO:root:Window 1640829060 has been fully handled\n",
      "INFO:root:Window 1640847060 has been fully handled\n",
      "INFO:root:Window 1640865060 has been fully handled\n",
      "INFO:root:Window 1640883060 has been fully handled\n",
      "INFO:root:Window 1640901060 has been fully handled\n",
      "INFO:root:Window 1640919060 has been fully handled\n",
      "INFO:root:Window 1640937060 has been fully handled\n",
      "INFO:root:Window 1640955060 has been fully handled\n",
      "INFO:root:Window 1640973060 has been fully handled\n",
      "INFO:root:Window 1640991060 has been fully handled\n",
      "INFO:root:Window 1641009060 has been fully handled\n",
      "INFO:root:Window 1641027060 has been fully handled\n",
      "INFO:root:Window 1641045060 has been fully handled\n",
      "INFO:root:Window 1641063060 has been fully handled\n",
      "INFO:root:Window 1641081060 has been fully handled\n",
      "INFO:root:Window 1641099060 has been fully handled\n",
      "INFO:root:Window 1641117060 has been fully handled\n",
      "INFO:root:Window 1641135060 has been fully handled\n",
      "INFO:root:Window 1641153060 has been fully handled\n",
      "INFO:root:Window 1641171060 has been fully handled\n",
      "INFO:root:Window 1641189060 has been fully handled\n",
      "INFO:root:Window 1641207060 has been fully handled\n",
      "INFO:root:Window 1641225060 has been fully handled\n",
      "INFO:root:Window 1641243060 has been fully handled\n",
      "INFO:root:Window 1641261060 has been fully handled\n",
      "INFO:root:Window 1641279060 has been fully handled\n",
      "INFO:root:Window 1641297060 has been fully handled\n",
      "INFO:root:Window 1641315060 has been fully handled\n",
      "INFO:root:Window 1641333060 has been fully handled\n",
      "INFO:root:Window 1641351060 has been partially handled (100 already processed)\n",
      "INFO:root:Window 1639533060 has been fully handled\n",
      "INFO:root:Window 1639551060 has been fully handled\n",
      "INFO:root:Window 1639569060 has been fully handled\n",
      "INFO:root:Window 1639587060 has been fully handled\n",
      "INFO:root:Window 1639605060 has been fully handled\n",
      "INFO:root:Window 1639623060 has been fully handled\n",
      "INFO:root:Window 1639641060 has been fully handled\n",
      "INFO:root:Window 1639659060 has been fully handled\n",
      "INFO:root:Window 1639677060 has been fully handled\n",
      "INFO:root:Window 1639695060 has been fully handled\n",
      "INFO:root:Window 1639713060 has been fully handled\n",
      "INFO:root:Window 1639731060 has been fully handled\n",
      "INFO:root:Window 1639749060 has been fully handled\n",
      "INFO:root:Window 1639767060 has been fully handled\n",
      "INFO:root:Window 1639785060 has been fully handled\n",
      "INFO:root:Window 1639803060 has been fully handled\n",
      "INFO:root:Window 1639821060 has been fully handled\n",
      "INFO:root:Window 1639839060 has been fully handled\n",
      "INFO:root:Window 1639857060 has been fully handled\n",
      "INFO:root:Window 1639875060 has been fully handled\n",
      "INFO:root:Window 1639893060 has been fully handled\n",
      "INFO:root:Window 1639911060 has been fully handled\n",
      "INFO:root:Window 1639929060 has been fully handled\n",
      "INFO:root:Window 1639947060 has been fully handled\n",
      "INFO:root:Window 1639965060 has been fully handled\n",
      "INFO:root:Window 1639983060 has been fully handled\n",
      "INFO:root:Window 1640001060 has been partially handled (7100 already processed)\n",
      "INFO:root:Window 1640019060 has been fully handled\n",
      "INFO:root:Window 1640037060 has been fully handled\n",
      "INFO:root:Window 1640055060 has been fully handled\n",
      "INFO:root:Window 1640073060 has been fully handled\n",
      "INFO:root:Window 1640091060 has been partially handled (7100 already processed)\n",
      "INFO:root:Window 1640109060 has been fully handled\n",
      "INFO:root:Window 1640127060 has been fully handled\n",
      "INFO:root:Window 1640145060 has been fully handled\n",
      "INFO:root:Window 1640163060 has been fully handled\n",
      "INFO:root:Window 1640181060 has been partially handled (7100 already processed)\n",
      "INFO:root:Window 1640199060 has been fully handled\n",
      "INFO:root:Window 1640217060 has been fully handled\n",
      "INFO:root:Window 1640235060 has been fully handled\n",
      "INFO:root:Window 1640253060 has been partially handled (7100 already processed)\n",
      "INFO:root:Window 1640271060 has been partially handled (7100 already processed)\n",
      "INFO:root:Window 1640289060 has been fully handled\n",
      "INFO:root:Window 1640307060 has been fully handled\n",
      "INFO:root:Window 1640325060 has been fully handled\n",
      "INFO:root:Window 1640343060 has been partially handled (7000 already processed)\n",
      "INFO:root:Window 1640361060 has been partially handled (7000 already processed)\n",
      "INFO:root:Window 1640379060 has been fully handled\n",
      "INFO:root:Window 1640397060 has been fully handled\n",
      "INFO:root:Window 1640415060 has been partially handled (7000 already processed)\n",
      "INFO:root:Window 1640433060 has been partially handled (7000 already processed)\n",
      "INFO:root:Window 1640451060 has been partially handled (7000 already processed)\n",
      "INFO:root:Window 1640469060 has been fully handled\n",
      "INFO:root:Window 1640487060 has been fully handled\n",
      "INFO:root:Window 1640505060 has been partially handled (7000 already processed)\n",
      "INFO:root:Window 1640523060 has been partially handled (7000 already processed)\n",
      "INFO:root:Window 1640541060 has been fully handled\n",
      "INFO:root:Window 1640559060 has been fully handled\n",
      "INFO:root:Window 1640577060 has been fully handled\n",
      "INFO:root:Window 1640595060 has been partially handled (7000 already processed)\n",
      "INFO:root:Window 1640613060 has been partially handled (7000 already processed)\n",
      "INFO:root:Window 1640631060 has been fully handled\n",
      "INFO:root:Window 1640649060 has been fully handled\n",
      "INFO:root:Window 1640667060 has been fully handled\n",
      "INFO:root:Window 1640685060 has been partially handled (6900 already processed)\n",
      "INFO:root:Window 1640703060 has been partially handled (6900 already processed)\n",
      "INFO:root:Window 1640721060 has been fully handled\n",
      "INFO:root:Window 1640739060 has been fully handled\n",
      "INFO:root:Window 1640757060 has been fully handled\n",
      "INFO:root:Window 1640775060 has been partially handled (6900 already processed)\n",
      "INFO:root:Window 1640793060 has been partially handled (6900 already processed)\n",
      "INFO:root:Window 1640811060 has been fully handled\n",
      "INFO:root:Window 1640829060 has been fully handled\n",
      "INFO:root:Window 1640847060 has been partially handled (6900 already processed)\n",
      "INFO:root:Window 1640865060 has been partially handled (6900 already processed)\n",
      "INFO:root:Window 1640883060 has been partially handled (6900 already processed)\n",
      "INFO:root:Window 1640901060 has been fully handled\n",
      "INFO:root:Window 1640919060 has been fully handled\n",
      "INFO:root:Window 1640937060 has been partially handled (6900 already processed)\n",
      "INFO:root:Window 1640955060 has been partially handled (6900 already processed)\n",
      "INFO:root:Window 1640973060 has been fully handled\n",
      "INFO:root:Window 1640991060 has been fully handled\n",
      "INFO:root:Window 1641009060 has been fully handled\n",
      "INFO:root:Window 1641027060 has been partially handled (6900 already processed)\n",
      "INFO:root:Window 1641045060 has been partially handled (6900 already processed)\n",
      "INFO:root:Window 1641063060 has been partially handled (6900 already processed)\n",
      "INFO:root:Window 1641081060 has been fully handled\n",
      "INFO:root:Window 1641099060 has been partially handled (6900 already processed)\n",
      "INFO:root:Window 1641117060 has been partially handled (6900 already processed)\n",
      "INFO:root:Window 1641135060 has been partially handled (6900 already processed)\n",
      "INFO:root:Window 1641153060 has been fully handled\n",
      "INFO:root:Window 1641171060 has been fully handled\n",
      "INFO:root:Window 1641189060 has been partially handled (6900 already processed)\n",
      "INFO:root:Window 1641207060 has been partially handled (6900 already processed)\n",
      "INFO:root:Window 1641225060 has been partially handled (6900 already processed)\n",
      "INFO:root:Window 1641243060 has been fully handled\n",
      "INFO:root:Window 1641261060 has been fully handled\n",
      "INFO:root:Window 1641279060 has been fully handled\n",
      "INFO:root:Window 1641297060 has been partially handled (6900 already processed)\n",
      "INFO:root:Window 1641315060 has been partially handled (6900 already processed)\n",
      "INFO:root:Window 1641333060 has been fully handled\n"
     ]
    }
   ],
   "source": [
    "batch_processor = BatchProcessor()\n",
    "batch_processor.populate_queue()"
   ]
  },
  {
   "cell_type": "code",
   "execution_count": 4,
   "metadata": {},
   "outputs": [
    {
     "data": {
      "text/plain": [
       "40"
      ]
     },
     "execution_count": 4,
     "metadata": {},
     "output_type": "execute_result"
    }
   ],
   "source": [
    "len(batch_processor.processing_queue)"
   ]
  },
  {
   "cell_type": "code",
   "execution_count": 5,
   "metadata": {},
   "outputs": [
    {
     "name": "stderr",
     "output_type": "stream",
     "text": [
      "INFO:root:Window 0: APEXMAGE - 1641351060 to 1641369060\n",
      "DEBUG:urllib3.connectionpool:Starting new HTTPS connection (1): api.stratz.com:443\n",
      "DEBUG:urllib3.connectionpool:https://api.stratz.com:443 \"POST /graphql HTTP/1.1\" 200 None\n",
      "INFO:root:Processed 100 matches in 0.34 seconds\n",
      "INFO:root:Saved 100 matches in 3.35 seconds\n"
     ]
    }
   ],
   "source": [
    "batch_processor.process_queue(cutoff=1)"
   ]
  },
  {
   "cell_type": "code",
   "execution_count": 6,
   "metadata": {},
   "outputs": [
    {
     "data": {
      "text/plain": [
       "40"
      ]
     },
     "execution_count": 6,
     "metadata": {},
     "output_type": "execute_result"
    }
   ],
   "source": [
    "len(batch_processor.processing_queue)"
   ]
  },
  {
   "cell_type": "code",
   "execution_count": null,
   "metadata": {},
   "outputs": [],
   "source": []
  }
 ],
 "metadata": {
  "interpreter": {
   "hash": "7030160b6c4475dc08c90fcd288c2839dc384cab066b9df02c319b343f0961ac"
  },
  "kernelspec": {
   "display_name": "Python 3.8.10 64-bit ('.venv': venv)",
   "language": "python",
   "name": "python3"
  },
  "language_info": {
   "codemirror_mode": {
    "name": "ipython",
    "version": 3
   },
   "file_extension": ".py",
   "mimetype": "text/x-python",
   "name": "python",
   "nbconvert_exporter": "python",
   "pygments_lexer": "ipython3",
   "version": "3.8.10"
  },
  "orig_nbformat": 4
 },
 "nbformat": 4,
 "nbformat_minor": 2
}
